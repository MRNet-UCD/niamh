{
 "cells": [
  {
   "cell_type": "code",
   "execution_count": 1,
   "metadata": {},
   "outputs": [],
   "source": [
    "import os\n",
    "import torch\n",
    "from dataloader import MRDataset\n",
    "from tqdm import tqdm\n",
    "from tqdm import tqdm_notebook\n"
   ]
  },
  {
   "cell_type": "code",
   "execution_count": 2,
   "metadata": {},
   "outputs": [],
   "source": [
    "def extract_predictions(task, plane, train=True):\n",
    "    assert task in ['acl', 'meniscus', 'abnormal']\n",
    "    assert plane in ['axial', 'coronal', 'sagittal']\n",
    "    \n",
    "    models = os.listdir('/home/niamh/Documents/MRNET/models/')\n",
    "\n",
    "    model_name = list(filter(lambda name: task in name and plane in name, models))[0]\n",
    "    model_path = f'/home/niamh/Documents/MRNET/models/{model_name}'\n",
    "\n",
    "    mrnet = torch.load(model_path)\n",
    "    _ = mrnet.eval()\n",
    "    \n",
    "    train_dataset = MRDataset('/home/niamh/Documents/MRNET/data/', \n",
    "                              task, \n",
    "                              plane, \n",
    "                              transform=None, \n",
    "                              train=train, \n",
    "                             # normalize=False\n",
    "                             )\n",
    "    \n",
    "    train_loader = torch.utils.data.DataLoader(train_dataset, \n",
    "                                               batch_size=1, \n",
    "                                               shuffle=False, \n",
    "                                               num_workers=10, \n",
    "                                               drop_last=False)\n",
    "    predictions = []\n",
    "    labels = []\n",
    "    with torch.no_grad():\n",
    "        for image, label, _ in tqdm_notebook(train_loader):\n",
    "            logit = mrnet(image)\n",
    "            prediction = torch.sigmoid(logit)\n",
    "            predictions.append(prediction[0][1].item())\n",
    "            labels.append(label.item())\n",
    "\n",
    "    return predictions, labels"
   ]
  },
  {
   "cell_type": "code",
   "execution_count": null,
   "metadata": {},
   "outputs": [
    {
     "name": "stderr",
     "output_type": "stream",
     "text": [
      "<ipython-input-2-12d1eff12572>:29: TqdmDeprecationWarning: This function will be removed in tqdm==5.0.0\n",
      "Please use `tqdm.notebook.tqdm` instead of `tqdm.tqdm_notebook`\n",
      "  for image, label, _ in tqdm_notebook(train_loader):\n"
     ]
    },
    {
     "data": {
      "application/vnd.jupyter.widget-view+json": {
       "model_id": "d18f408b6d0b40b98dfad6cfe95a3765",
       "version_major": 2,
       "version_minor": 0
      },
      "text/plain": [
       "HBox(children=(FloatProgress(value=0.0, max=1130.0), HTML(value='')))"
      ]
     },
     "metadata": {},
     "output_type": "display_data"
    }
   ],
   "source": [
    "import numpy as np\n",
    "import pandas as pd\n",
    "from sklearn import metrics\n",
    "from sklearn.linear_model import LogisticRegression\n",
    "\n",
    "task = 'acl'\n",
    "results = {}\n",
    "\n",
    "for plane in ['axial', 'coronal', 'sagittal']:\n",
    "    predictions, labels = extract_predictions(task, plane)\n",
    "    results['labels'] = labels\n",
    "    results[plane] = predictions\n",
    "    \n",
    "X = np.zeros((len(predictions), 3))\n",
    "X[:, 0] = results['axial']\n",
    "X[:, 1] = results['coronal']\n",
    "X[:, 2] = results['sagittal']\n",
    "\n",
    "y = np.array(labels)\n",
    "\n",
    "logreg = LogisticRegression(solver='lbfgs')\n",
    "logreg.fit(X, y)"
   ]
  },
  {
   "cell_type": "code",
   "execution_count": null,
   "metadata": {},
   "outputs": [],
   "source": [
    "y_pred = logreg.predict_proba(X)[:, 1]\n",
    "metrics.roc_auc_score(y, y_pred)"
   ]
  },
  {
   "cell_type": "code",
   "execution_count": 110,
   "metadata": {},
   "outputs": [
    {
     "data": {
      "text/html": [
       "<div>\n",
       "<style scoped>\n",
       "    .dataframe tbody tr th:only-of-type {\n",
       "        vertical-align: middle;\n",
       "    }\n",
       "\n",
       "    .dataframe tbody tr th {\n",
       "        vertical-align: top;\n",
       "    }\n",
       "\n",
       "    .dataframe thead th {\n",
       "        text-align: right;\n",
       "    }\n",
       "</style>\n",
       "<table border=\"1\" class=\"dataframe\">\n",
       "  <thead>\n",
       "    <tr style=\"text-align: right;\">\n",
       "      <th></th>\n",
       "      <th>axial</th>\n",
       "      <th>coronal</th>\n",
       "      <th>sagittal</th>\n",
       "      <th>label</th>\n",
       "      <th>prediction</th>\n",
       "    </tr>\n",
       "  </thead>\n",
       "  <tbody>\n",
       "    <tr>\n",
       "      <th>0</th>\n",
       "      <td>0.416907</td>\n",
       "      <td>0.235121</td>\n",
       "      <td>0.057556</td>\n",
       "      <td>0.0</td>\n",
       "      <td>0.060770</td>\n",
       "    </tr>\n",
       "    <tr>\n",
       "      <th>1</th>\n",
       "      <td>0.988462</td>\n",
       "      <td>0.848889</td>\n",
       "      <td>0.882496</td>\n",
       "      <td>1.0</td>\n",
       "      <td>0.910774</td>\n",
       "    </tr>\n",
       "    <tr>\n",
       "      <th>2</th>\n",
       "      <td>0.070707</td>\n",
       "      <td>0.239407</td>\n",
       "      <td>0.162977</td>\n",
       "      <td>0.0</td>\n",
       "      <td>0.011111</td>\n",
       "    </tr>\n",
       "    <tr>\n",
       "      <th>3</th>\n",
       "      <td>0.173366</td>\n",
       "      <td>0.416141</td>\n",
       "      <td>0.257963</td>\n",
       "      <td>0.0</td>\n",
       "      <td>0.031665</td>\n",
       "    </tr>\n",
       "    <tr>\n",
       "      <th>4</th>\n",
       "      <td>0.113855</td>\n",
       "      <td>0.027642</td>\n",
       "      <td>0.076237</td>\n",
       "      <td>0.0</td>\n",
       "      <td>0.007486</td>\n",
       "    </tr>\n",
       "  </tbody>\n",
       "</table>\n",
       "</div>"
      ],
      "text/plain": [
       "      axial   coronal  sagittal  label  prediction\n",
       "0  0.416907  0.235121  0.057556    0.0    0.060770\n",
       "1  0.988462  0.848889  0.882496    1.0    0.910774\n",
       "2  0.070707  0.239407  0.162977    0.0    0.011111\n",
       "3  0.173366  0.416141  0.257963    0.0    0.031665\n",
       "4  0.113855  0.027642  0.076237    0.0    0.007486"
      ]
     },
     "execution_count": 110,
     "metadata": {},
     "output_type": "execute_result"
    }
   ],
   "source": [
    "final = pd.concat([pd.DataFrame(X), pd.DataFrame(y), pd.DataFrame(y_pred)], axis =1)\n",
    "final.columns = ['axial','coronal', 'sagittal', 'label','prediction']\n",
    "final.head()"
   ]
  },
  {
   "cell_type": "code",
   "execution_count": 111,
   "metadata": {},
   "outputs": [],
   "source": [
    "pd.DataFrame(final).to_csv('acl_predictions_training')"
   ]
  },
  {
   "cell_type": "code",
   "execution_count": 80,
   "metadata": {},
   "outputs": [
    {
     "name": "stderr",
     "output_type": "stream",
     "text": [
      "<ipython-input-74-12d1eff12572>:29: TqdmDeprecationWarning: This function will be removed in tqdm==5.0.0\n",
      "Please use `tqdm.notebook.tqdm` instead of `tqdm.tqdm_notebook`\n",
      "  for image, label, _ in tqdm_notebook(train_loader):\n"
     ]
    },
    {
     "data": {
      "application/vnd.jupyter.widget-view+json": {
       "model_id": "801138978c19446894925c4abd9f33b8",
       "version_major": 2,
       "version_minor": 0
      },
      "text/plain": [
       "HBox(children=(FloatProgress(value=0.0, max=120.0), HTML(value='')))"
      ]
     },
     "metadata": {},
     "output_type": "display_data"
    },
    {
     "name": "stdout",
     "output_type": "stream",
     "text": [
      "\n"
     ]
    },
    {
     "data": {
      "application/vnd.jupyter.widget-view+json": {
       "model_id": "a1f727c600b24e6ea2d6cfcc05911d60",
       "version_major": 2,
       "version_minor": 0
      },
      "text/plain": [
       "HBox(children=(FloatProgress(value=0.0, max=120.0), HTML(value='')))"
      ]
     },
     "metadata": {},
     "output_type": "display_data"
    },
    {
     "name": "stdout",
     "output_type": "stream",
     "text": [
      "\n"
     ]
    },
    {
     "data": {
      "application/vnd.jupyter.widget-view+json": {
       "model_id": "bde0a39ad225411d82feaa3855e699ca",
       "version_major": 2,
       "version_minor": 0
      },
      "text/plain": [
       "HBox(children=(FloatProgress(value=0.0, max=120.0), HTML(value='')))"
      ]
     },
     "metadata": {},
     "output_type": "display_data"
    },
    {
     "name": "stdout",
     "output_type": "stream",
     "text": [
      "\n"
     ]
    },
    {
     "data": {
      "text/plain": [
       "0.9604377104377104"
      ]
     },
     "execution_count": 80,
     "metadata": {},
     "output_type": "execute_result"
    }
   ],
   "source": [
    "task = 'acl'\n",
    "results_val = {}\n",
    "\n",
    "for plane in ['axial', 'coronal', 'sagittal']:\n",
    "    predictions, labels = extract_predictions(task, plane, train=False)\n",
    "    results_val['labels'] = labels\n",
    "    results_val[plane] = predictions\n",
    "\n",
    "X_val = np.zeros((len(predictions), 3))\n",
    "X_val[:, 0] = results_val['axial']\n",
    "X_val[:, 1] = results_val['coronal']\n",
    "X_val[:, 2] = results_val['sagittal']\n",
    "\n",
    "y_val = np.array(labels)\n",
    "\n",
    "y_pred = logreg.predict_proba(X_val)[:, 1]\n",
    "metrics.roc_auc_score(y_val, y_pred)"
   ]
  },
  {
   "cell_type": "code",
   "execution_count": 88,
   "metadata": {},
   "outputs": [],
   "source": [
    "pd.DataFrame(X_val).to_csv('acl_predictions_validation')"
   ]
  },
  {
   "cell_type": "code",
   "execution_count": 91,
   "metadata": {},
   "outputs": [
    {
     "name": "stderr",
     "output_type": "stream",
     "text": [
      "<ipython-input-74-12d1eff12572>:29: TqdmDeprecationWarning: This function will be removed in tqdm==5.0.0\n",
      "Please use `tqdm.notebook.tqdm` instead of `tqdm.tqdm_notebook`\n",
      "  for image, label, _ in tqdm_notebook(train_loader):\n"
     ]
    },
    {
     "data": {
      "application/vnd.jupyter.widget-view+json": {
       "model_id": "b10d25c07d2c415fa45968963d3b7798",
       "version_major": 2,
       "version_minor": 0
      },
      "text/plain": [
       "HBox(children=(FloatProgress(value=0.0, max=1130.0), HTML(value='')))"
      ]
     },
     "metadata": {},
     "output_type": "display_data"
    },
    {
     "name": "stdout",
     "output_type": "stream",
     "text": [
      "\n"
     ]
    },
    {
     "data": {
      "application/vnd.jupyter.widget-view+json": {
       "model_id": "cda49baa8c9b420c816a09a4480650e3",
       "version_major": 2,
       "version_minor": 0
      },
      "text/plain": [
       "HBox(children=(FloatProgress(value=0.0, max=1130.0), HTML(value='')))"
      ]
     },
     "metadata": {},
     "output_type": "display_data"
    },
    {
     "name": "stdout",
     "output_type": "stream",
     "text": [
      "\n"
     ]
    },
    {
     "data": {
      "application/vnd.jupyter.widget-view+json": {
       "model_id": "9b9881e83d794dd4b5167f2257419de2",
       "version_major": 2,
       "version_minor": 0
      },
      "text/plain": [
       "HBox(children=(FloatProgress(value=0.0, max=1130.0), HTML(value='')))"
      ]
     },
     "metadata": {},
     "output_type": "display_data"
    },
    {
     "name": "stdout",
     "output_type": "stream",
     "text": [
      "\n"
     ]
    },
    {
     "data": {
      "text/plain": [
       "LogisticRegression()"
      ]
     },
     "execution_count": 91,
     "metadata": {},
     "output_type": "execute_result"
    }
   ],
   "source": [
    "task = 'abnormal'\n",
    "results = {}\n",
    "\n",
    "for plane in ['axial', 'coronal', 'sagittal']:\n",
    "    predictions, labels = extract_predictions(task, plane)\n",
    "    results['labels'] = labels\n",
    "    results[plane] = predictions\n",
    "    \n",
    "X = np.zeros((len(predictions), 3))\n",
    "X[:, 0] = results['axial']\n",
    "X[:, 1] = results['coronal']\n",
    "X[:, 2] = results['sagittal']\n",
    "\n",
    "y = np.array(labels)\n",
    "\n",
    "logreg = LogisticRegression(solver='lbfgs')\n",
    "logreg.fit(X, y)"
   ]
  },
  {
   "cell_type": "code",
   "execution_count": 92,
   "metadata": {},
   "outputs": [],
   "source": [
    "pd.DataFrame(X).to_csv('abnormal_predictions_training')"
   ]
  },
  {
   "cell_type": "code",
   "execution_count": 93,
   "metadata": {},
   "outputs": [
    {
     "name": "stderr",
     "output_type": "stream",
     "text": [
      "<ipython-input-74-12d1eff12572>:29: TqdmDeprecationWarning: This function will be removed in tqdm==5.0.0\n",
      "Please use `tqdm.notebook.tqdm` instead of `tqdm.tqdm_notebook`\n",
      "  for image, label, _ in tqdm_notebook(train_loader):\n"
     ]
    },
    {
     "data": {
      "application/vnd.jupyter.widget-view+json": {
       "model_id": "2696a29709814eda9079d8db0318780a",
       "version_major": 2,
       "version_minor": 0
      },
      "text/plain": [
       "HBox(children=(FloatProgress(value=0.0, max=120.0), HTML(value='')))"
      ]
     },
     "metadata": {},
     "output_type": "display_data"
    },
    {
     "name": "stdout",
     "output_type": "stream",
     "text": [
      "\n"
     ]
    },
    {
     "data": {
      "application/vnd.jupyter.widget-view+json": {
       "model_id": "3c0aa007ae524a9ab8ae93560f42ddbf",
       "version_major": 2,
       "version_minor": 0
      },
      "text/plain": [
       "HBox(children=(FloatProgress(value=0.0, max=120.0), HTML(value='')))"
      ]
     },
     "metadata": {},
     "output_type": "display_data"
    },
    {
     "name": "stdout",
     "output_type": "stream",
     "text": [
      "\n"
     ]
    },
    {
     "data": {
      "application/vnd.jupyter.widget-view+json": {
       "model_id": "4013538eca534a7690052742c92e9325",
       "version_major": 2,
       "version_minor": 0
      },
      "text/plain": [
       "HBox(children=(FloatProgress(value=0.0, max=120.0), HTML(value='')))"
      ]
     },
     "metadata": {},
     "output_type": "display_data"
    },
    {
     "name": "stdout",
     "output_type": "stream",
     "text": [
      "\n"
     ]
    },
    {
     "data": {
      "text/plain": [
       "0.9132631578947368"
      ]
     },
     "execution_count": 93,
     "metadata": {},
     "output_type": "execute_result"
    }
   ],
   "source": [
    "task = 'abnormal'\n",
    "results_val = {}\n",
    "\n",
    "for plane in ['axial', 'coronal', 'sagittal']:\n",
    "    predictions, labels = extract_predictions(task, plane, train=False)\n",
    "    results_val['labels'] = labels\n",
    "    results_val[plane] = predictions\n",
    "\n",
    "X_val = np.zeros((len(predictions), 3))\n",
    "X_val[:, 0] = results_val['axial']\n",
    "X_val[:, 1] = results_val['coronal']\n",
    "X_val[:, 2] = results_val['sagittal']\n",
    "\n",
    "y_val = np.array(labels)\n",
    "\n",
    "y_pred = logreg.predict_proba(X_val)[:, 1]\n",
    "metrics.roc_auc_score(y_val, y_pred)"
   ]
  },
  {
   "cell_type": "code",
   "execution_count": 94,
   "metadata": {},
   "outputs": [],
   "source": [
    "pd.DataFrame(X_val).to_csv('abnormal_predictions_validation')"
   ]
  },
  {
   "cell_type": "code",
   "execution_count": 95,
   "metadata": {},
   "outputs": [
    {
     "name": "stderr",
     "output_type": "stream",
     "text": [
      "<ipython-input-74-12d1eff12572>:29: TqdmDeprecationWarning: This function will be removed in tqdm==5.0.0\n",
      "Please use `tqdm.notebook.tqdm` instead of `tqdm.tqdm_notebook`\n",
      "  for image, label, _ in tqdm_notebook(train_loader):\n"
     ]
    },
    {
     "data": {
      "application/vnd.jupyter.widget-view+json": {
       "model_id": "085f77527fdc475a8bf7164517f288d2",
       "version_major": 2,
       "version_minor": 0
      },
      "text/plain": [
       "HBox(children=(FloatProgress(value=0.0, max=1130.0), HTML(value='')))"
      ]
     },
     "metadata": {},
     "output_type": "display_data"
    },
    {
     "name": "stdout",
     "output_type": "stream",
     "text": [
      "\n"
     ]
    },
    {
     "data": {
      "application/vnd.jupyter.widget-view+json": {
       "model_id": "ba4dda1fe7f54ba48bd73b5d872f314e",
       "version_major": 2,
       "version_minor": 0
      },
      "text/plain": [
       "HBox(children=(FloatProgress(value=0.0, max=1130.0), HTML(value='')))"
      ]
     },
     "metadata": {},
     "output_type": "display_data"
    },
    {
     "name": "stdout",
     "output_type": "stream",
     "text": [
      "\n"
     ]
    },
    {
     "data": {
      "application/vnd.jupyter.widget-view+json": {
       "model_id": "c3461c20e9584a6d825baae6e576cb9c",
       "version_major": 2,
       "version_minor": 0
      },
      "text/plain": [
       "HBox(children=(FloatProgress(value=0.0, max=1130.0), HTML(value='')))"
      ]
     },
     "metadata": {},
     "output_type": "display_data"
    },
    {
     "name": "stdout",
     "output_type": "stream",
     "text": [
      "\n"
     ]
    },
    {
     "data": {
      "text/plain": [
       "LogisticRegression()"
      ]
     },
     "execution_count": 95,
     "metadata": {},
     "output_type": "execute_result"
    }
   ],
   "source": [
    "task = 'meniscus'\n",
    "results = {}\n",
    "\n",
    "for plane in ['axial', 'coronal', 'sagittal']:\n",
    "    predictions, labels = extract_predictions(task, plane)\n",
    "    results['labels'] = labels\n",
    "    results[plane] = predictions\n",
    "    \n",
    "X = np.zeros((len(predictions), 3))\n",
    "X[:, 0] = results['axial']\n",
    "X[:, 1] = results['coronal']\n",
    "X[:, 2] = results['sagittal']\n",
    "\n",
    "y = np.array(labels)\n",
    "\n",
    "logreg = LogisticRegression(solver='lbfgs')\n",
    "logreg.fit(X, y)"
   ]
  },
  {
   "cell_type": "code",
   "execution_count": 96,
   "metadata": {},
   "outputs": [],
   "source": [
    "pd.DataFrame(X).to_csv('meniscus_predictions_training')"
   ]
  },
  {
   "cell_type": "code",
   "execution_count": 99,
   "metadata": {},
   "outputs": [
    {
     "name": "stderr",
     "output_type": "stream",
     "text": [
      "<ipython-input-74-12d1eff12572>:29: TqdmDeprecationWarning: This function will be removed in tqdm==5.0.0\n",
      "Please use `tqdm.notebook.tqdm` instead of `tqdm.tqdm_notebook`\n",
      "  for image, label, _ in tqdm_notebook(train_loader):\n"
     ]
    },
    {
     "data": {
      "application/vnd.jupyter.widget-view+json": {
       "model_id": "f6bb037efd7547bdacf81e7fe11f5c39",
       "version_major": 2,
       "version_minor": 0
      },
      "text/plain": [
       "HBox(children=(FloatProgress(value=0.0, max=120.0), HTML(value='')))"
      ]
     },
     "metadata": {},
     "output_type": "display_data"
    },
    {
     "name": "stdout",
     "output_type": "stream",
     "text": [
      "\n"
     ]
    },
    {
     "data": {
      "application/vnd.jupyter.widget-view+json": {
       "model_id": "d41e052e05d0477bae489ca77258d57f",
       "version_major": 2,
       "version_minor": 0
      },
      "text/plain": [
       "HBox(children=(FloatProgress(value=0.0, max=120.0), HTML(value='')))"
      ]
     },
     "metadata": {},
     "output_type": "display_data"
    },
    {
     "name": "stdout",
     "output_type": "stream",
     "text": [
      "\n"
     ]
    },
    {
     "data": {
      "application/vnd.jupyter.widget-view+json": {
       "model_id": "d0055dff451d416a8d2657f1cab64d83",
       "version_major": 2,
       "version_minor": 0
      },
      "text/plain": [
       "HBox(children=(FloatProgress(value=0.0, max=120.0), HTML(value='')))"
      ]
     },
     "metadata": {},
     "output_type": "display_data"
    },
    {
     "name": "stdout",
     "output_type": "stream",
     "text": [
      "\n"
     ]
    },
    {
     "data": {
      "text/plain": [
       "0.8201357466063349"
      ]
     },
     "execution_count": 99,
     "metadata": {},
     "output_type": "execute_result"
    }
   ],
   "source": [
    "task = 'meniscus'\n",
    "results_val = {}\n",
    "\n",
    "for plane in ['axial', 'coronal', 'sagittal']:\n",
    "    predictions, labels = extract_predictions(task, plane, train=False)\n",
    "    results_val['labels'] = labels\n",
    "    results_val[plane] = predictions\n",
    "\n",
    "X_val = np.zeros((len(predictions), 3))\n",
    "X_val[:, 0] = results_val['axial']\n",
    "X_val[:, 1] = results_val['coronal']\n",
    "X_val[:, 2] = results_val['sagittal']\n",
    "\n",
    "y_val = np.array(labels)\n",
    "\n",
    "y_pred = logreg.predict_proba(X_val)[:, 1]\n",
    "metrics.roc_auc_score(y_val, y_pred)"
   ]
  },
  {
   "cell_type": "code",
   "execution_count": 100,
   "metadata": {},
   "outputs": [],
   "source": [
    "pd.DataFrame(X_val).to_csv('meniscus_predictions_validation')"
   ]
  },
  {
   "cell_type": "code",
   "execution_count": 101,
   "metadata": {},
   "outputs": [
    {
     "data": {
      "text/plain": [
       "0.8966666666666666"
      ]
     },
     "execution_count": 101,
     "metadata": {},
     "output_type": "execute_result"
    }
   ],
   "source": [
    "(0.96+0.91+0.82)/3"
   ]
  },
  {
   "cell_type": "code",
   "execution_count": null,
   "metadata": {},
   "outputs": [],
   "source": []
  },
  {
   "cell_type": "code",
   "execution_count": null,
   "metadata": {},
   "outputs": [],
   "source": []
  },
  {
   "cell_type": "code",
   "execution_count": null,
   "metadata": {},
   "outputs": [],
   "source": []
  },
  {
   "cell_type": "code",
   "execution_count": null,
   "metadata": {},
   "outputs": [],
   "source": []
  },
  {
   "cell_type": "code",
   "execution_count": null,
   "metadata": {},
   "outputs": [],
   "source": []
  },
  {
   "cell_type": "code",
   "execution_count": null,
   "metadata": {},
   "outputs": [],
   "source": []
  },
  {
   "cell_type": "code",
   "execution_count": 82,
   "metadata": {},
   "outputs": [
    {
     "data": {
      "text/plain": [
       "0.039562289562289556"
      ]
     },
     "execution_count": 82,
     "metadata": {},
     "output_type": "execute_result"
    }
   ],
   "source": [
    "y_pred = logreg.predict_proba(X_val)[:, 0]\n",
    "metrics.roc_auc_score(y_val, y_pred)"
   ]
  },
  {
   "cell_type": "code",
   "execution_count": 83,
   "metadata": {},
   "outputs": [
    {
     "ename": "IndexError",
     "evalue": "index 2 is out of bounds for axis 1 with size 2",
     "output_type": "error",
     "traceback": [
      "\u001b[0;31m---------------------------------------------------------------------------\u001b[0m",
      "\u001b[0;31mIndexError\u001b[0m                                Traceback (most recent call last)",
      "\u001b[0;32m<ipython-input-83-7186523db85b>\u001b[0m in \u001b[0;36m<module>\u001b[0;34m\u001b[0m\n\u001b[0;32m----> 1\u001b[0;31m \u001b[0my_pred\u001b[0m \u001b[0;34m=\u001b[0m \u001b[0mlogreg\u001b[0m\u001b[0;34m.\u001b[0m\u001b[0mpredict_proba\u001b[0m\u001b[0;34m(\u001b[0m\u001b[0mX_val\u001b[0m\u001b[0;34m)\u001b[0m\u001b[0;34m[\u001b[0m\u001b[0;34m:\u001b[0m\u001b[0;34m,\u001b[0m \u001b[0;36m2\u001b[0m\u001b[0;34m]\u001b[0m\u001b[0;34m\u001b[0m\u001b[0;34m\u001b[0m\u001b[0m\n\u001b[0m\u001b[1;32m      2\u001b[0m \u001b[0mmetrics\u001b[0m\u001b[0;34m.\u001b[0m\u001b[0mroc_auc_score\u001b[0m\u001b[0;34m(\u001b[0m\u001b[0my_val\u001b[0m\u001b[0;34m,\u001b[0m \u001b[0my_pred\u001b[0m\u001b[0;34m)\u001b[0m\u001b[0;34m\u001b[0m\u001b[0;34m\u001b[0m\u001b[0m\n",
      "\u001b[0;31mIndexError\u001b[0m: index 2 is out of bounds for axis 1 with size 2"
     ]
    }
   ],
   "source": [
    "y_pred = logreg.predict_proba(X_val)[:, 2]\n",
    "metrics.roc_auc_score(y_val, y_pred)"
   ]
  },
  {
   "cell_type": "code",
   "execution_count": 63,
   "metadata": {},
   "outputs": [
    {
     "data": {
      "text/plain": [
       "0.9573512906846241"
      ]
     },
     "execution_count": 63,
     "metadata": {},
     "output_type": "execute_result"
    }
   ],
   "source": [
    "X_val = np.zeros((len(predictions), 3))\n",
    "X_val[:, 0] = results_val['axial']\n",
    "y_val = np.array(labels)\n",
    "\n",
    "y_pred = logreg.predict_proba(X_val)[:, 1]\n",
    "metrics.roc_auc_score(y_val, y_pred)"
   ]
  },
  {
   "cell_type": "code",
   "execution_count": 71,
   "metadata": {},
   "outputs": [
    {
     "data": {
      "text/plain": [
       "1130"
      ]
     },
     "execution_count": 71,
     "metadata": {},
     "output_type": "execute_result"
    }
   ],
   "source": [
    "len(results['axial'])"
   ]
  },
  {
   "cell_type": "code",
   "execution_count": null,
   "metadata": {},
   "outputs": [],
   "source": [
    "task = 'acl'\n",
    "results_val = {}\n",
    "\n",
    "for plane in ['axial', 'coronal', 'sagittal']:\n",
    "    predictions, labels = extract_predictions(task, plane, train=False)\n",
    "    results_val['labels'] = labels\n",
    "    results_val[plane] = predictions\n",
    "\n",
    "y_pred = logreg.predict_proba(X_val)[:, 1]\n",
    "metrics.roc_auc_score(y_val, y_pred)"
   ]
  },
  {
   "cell_type": "code",
   "execution_count": null,
   "metadata": {},
   "outputs": [],
   "source": []
  },
  {
   "cell_type": "code",
   "execution_count": null,
   "metadata": {},
   "outputs": [],
   "source": []
  },
  {
   "cell_type": "code",
   "execution_count": null,
   "metadata": {},
   "outputs": [],
   "source": [
    "task = 'abnormal'\n",
    "results = {}\n",
    "\n",
    "for plane in ['axial', 'coronal', 'sagittal']:\n",
    "    predictions, labels = extract_predictions(task, plane)\n",
    "    results['labels'] = labels\n",
    "    results[plane] = predictions\n",
    "    \n",
    "X = np.zeros((len(predictions), 3))\n",
    "X[:, 0] = results['axial']\n",
    "X[:, 1] = results['coronal']\n",
    "X[:, 2] = results['sagittal']\n",
    "\n",
    "y = np.array(labels)\n",
    "\n",
    "logreg = LogisticRegression(solver='lbfgs')\n",
    "logreg.fit(X, y)"
   ]
  },
  {
   "cell_type": "code",
   "execution_count": null,
   "metadata": {},
   "outputs": [],
   "source": [
    "task = 'abnormal'\n",
    "results_val = {}\n",
    "\n",
    "for plane in ['axial', 'coronal', 'sagittal']:\n",
    "    predictions, labels = extract_predictions(task, plane, train=False)\n",
    "    results_val['labels'] = labels\n",
    "    results_val[plane] = predictions\n",
    "\n",
    "y_pred = logreg.predict_proba(X_val)[:, 1]\n",
    "metrics.roc_auc_score(y_val, y_pred)"
   ]
  },
  {
   "cell_type": "code",
   "execution_count": null,
   "metadata": {},
   "outputs": [],
   "source": [
    "task = 'meniscus'\n",
    "results = {}\n",
    "\n",
    "for plane in ['axial', 'coronal', 'sagittal']:\n",
    "    predictions, labels = extract_predictions(task, plane)\n",
    "    results['labels'] = labels\n",
    "    results[plane] = predictions\n",
    "    \n",
    "X = np.zeros((len(predictions), 3))\n",
    "X[:, 0] = results['axial']\n",
    "X[:, 1] = results['coronal']\n",
    "X[:, 2] = results['sagittal']\n",
    "\n",
    "y = np.array(labels)\n",
    "\n",
    "logreg = LogisticRegression(solver='lbfgs')\n",
    "logreg.fit(X, y)"
   ]
  },
  {
   "cell_type": "code",
   "execution_count": null,
   "metadata": {},
   "outputs": [],
   "source": [
    "task = 'meniscus'\n",
    "results_val = {}\n",
    "\n",
    "for plane in ['axial', 'coronal', 'sagittal']:\n",
    "    predictions, labels = extract_predictions(task, plane, train=False)\n",
    "    results_val['labels'] = labels\n",
    "    results_val[plane] = predictions\n",
    "\n",
    "y_pred = logreg.predict_proba(X_val)[:, 1]\n",
    "metrics.roc_auc_score(y_val, y_pred)"
   ]
  },
  {
   "cell_type": "code",
   "execution_count": null,
   "metadata": {},
   "outputs": [],
   "source": []
  },
  {
   "cell_type": "code",
   "execution_count": null,
   "metadata": {},
   "outputs": [],
   "source": []
  },
  {
   "cell_type": "code",
   "execution_count": null,
   "metadata": {},
   "outputs": [],
   "source": []
  },
  {
   "cell_type": "code",
   "execution_count": null,
   "metadata": {},
   "outputs": [],
   "source": []
  },
  {
   "cell_type": "code",
   "execution_count": null,
   "metadata": {},
   "outputs": [],
   "source": [
    "import cv2\n",
    "img = cv2.imread('./data/Elephant/data/05fig34.jpg')\n",
    "heatmap = cv2.resize(heatmap, (img.shape[1], img.shape[0]))\n",
    "heatmap = np.uint8(255 * heatmap)\n",
    "heatmap = cv2.applyColorMap(heatmap, cv2.COLORMAP_JET)\n",
    "superimposed_img = heatmap * 0.4 + img\n",
    "cv2.imwrite('./map.jpg', superimposed_img)"
   ]
  }
 ],
 "metadata": {
  "kernelspec": {
   "display_name": "Python 3",
   "language": "python",
   "name": "python3"
  },
  "language_info": {
   "codemirror_mode": {
    "name": "ipython",
    "version": 3
   },
   "file_extension": ".py",
   "mimetype": "text/x-python",
   "name": "python",
   "nbconvert_exporter": "python",
   "pygments_lexer": "ipython3",
   "version": "3.8.3"
  }
 },
 "nbformat": 4,
 "nbformat_minor": 4
}
